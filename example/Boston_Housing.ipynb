{
 "cells": [
  {
   "cell_type": "code",
   "execution_count": 1,
   "metadata": {},
   "outputs": [
    {
     "name": "stderr",
     "output_type": "stream",
     "text": [
      "/Users/zosmex/anaconda3/lib/python3.6/site-packages/tensorflow/python/framework/dtypes.py:523: FutureWarning: Passing (type, 1) or '1type' as a synonym of type is deprecated; in a future version of numpy, it will be understood as (type, (1,)) / '(1,)type'.\n",
      "  _np_qint8 = np.dtype([(\"qint8\", np.int8, 1)])\n",
      "/Users/zosmex/anaconda3/lib/python3.6/site-packages/tensorflow/python/framework/dtypes.py:524: FutureWarning: Passing (type, 1) or '1type' as a synonym of type is deprecated; in a future version of numpy, it will be understood as (type, (1,)) / '(1,)type'.\n",
      "  _np_quint8 = np.dtype([(\"quint8\", np.uint8, 1)])\n",
      "/Users/zosmex/anaconda3/lib/python3.6/site-packages/tensorflow/python/framework/dtypes.py:525: FutureWarning: Passing (type, 1) or '1type' as a synonym of type is deprecated; in a future version of numpy, it will be understood as (type, (1,)) / '(1,)type'.\n",
      "  _np_qint16 = np.dtype([(\"qint16\", np.int16, 1)])\n",
      "/Users/zosmex/anaconda3/lib/python3.6/site-packages/tensorflow/python/framework/dtypes.py:526: FutureWarning: Passing (type, 1) or '1type' as a synonym of type is deprecated; in a future version of numpy, it will be understood as (type, (1,)) / '(1,)type'.\n",
      "  _np_quint16 = np.dtype([(\"quint16\", np.uint16, 1)])\n",
      "/Users/zosmex/anaconda3/lib/python3.6/site-packages/tensorflow/python/framework/dtypes.py:527: FutureWarning: Passing (type, 1) or '1type' as a synonym of type is deprecated; in a future version of numpy, it will be understood as (type, (1,)) / '(1,)type'.\n",
      "  _np_qint32 = np.dtype([(\"qint32\", np.int32, 1)])\n",
      "/Users/zosmex/anaconda3/lib/python3.6/site-packages/tensorflow/python/framework/dtypes.py:532: FutureWarning: Passing (type, 1) or '1type' as a synonym of type is deprecated; in a future version of numpy, it will be understood as (type, (1,)) / '(1,)type'.\n",
      "  np_resource = np.dtype([(\"resource\", np.ubyte, 1)])\n",
      "Using TensorFlow backend.\n"
     ]
    }
   ],
   "source": [
    "import pandas as pd\n",
    "import numpy as np\n",
    "import matplotlib.pyplot as plt\n",
    "import seaborn as sns\n",
    "import time\n",
    "from ipykernel import kernelapp as app\n",
    "from scipy import stats\n",
    "import json\n",
    "import pickle\n",
    "\n",
    "from sklearn.preprocessing import LabelEncoder, MinMaxScaler, StandardScaler\n",
    "from sklearn.model_selection import train_test_split, StratifiedKFold, ShuffleSplit\n",
    "from sklearn.metrics import mean_absolute_error\n",
    "from sklearn.utils import resample\n",
    "\n",
    "from tensorflow import keras\n",
    "from keras import Sequential, optimizers\n",
    "from keras.models import Model, model_from_json, Sequential\n",
    "from keras.layers import Dense, Input, BatchNormalization, Dropout\n",
    "from keras.callbacks import ReduceLROnPlateau\n",
    "\n",
    "pd.options.display.max_rows = 999\n",
    "pd.options.display.max_columns = 999\n",
    "\n",
    "import BoostedIGA as BIGA\n",
    "import basedline as bs"
   ]
  },
  {
   "cell_type": "code",
   "execution_count": 2,
   "metadata": {},
   "outputs": [],
   "source": [
    "from sklearn.datasets import load_boston\n",
    "boston_dataset = load_boston()\n",
    "boston_df = pd.DataFrame(boston_dataset.data, columns=boston_dataset.feature_names)\n",
    "boston_df['MEDV'] = boston_dataset.target\n",
    "\n",
    "X = boston_df.drop(['MEDV'], axis = 1)\n",
    "y = boston_df.drop(X.columns, axis = 1)\n"
   ]
  },
  {
   "cell_type": "code",
   "execution_count": 3,
   "metadata": {},
   "outputs": [],
   "source": [
    "#Normalize\n",
    "\n",
    "X_norm = MinMaxScaler().fit_transform(X)\n",
    "X = pd.DataFrame(data = X_norm, columns = X.columns)"
   ]
  },
  {
   "cell_type": "markdown",
   "metadata": {},
   "source": [
    "# Hyperparameter tuning\n",
    "\n",
    "In this experiment, we use grid search to find optimal parameter"
   ]
  },
  {
   "cell_type": "code",
   "execution_count": 4,
   "metadata": {},
   "outputs": [
    {
     "name": "stderr",
     "output_type": "stream",
     "text": [
      "/Users/zosmex/anaconda3/lib/python3.6/site-packages/sklearn/model_selection/_split.py:1978: FutureWarning: The default value of cv will change from 3 to 5 in version 0.22. Specify it explicitly to silence this warning.\n",
      "  warnings.warn(CV_WARNING, FutureWarning)\n",
      "/Users/zosmex/anaconda3/lib/python3.6/site-packages/sklearn/model_selection/_search.py:813: DeprecationWarning: The default of the `iid` parameter will change from True to False in version 0.22 and will be removed in 0.24. This will change numeric results when test-set sizes are unequal.\n",
      "  DeprecationWarning)\n"
     ]
    },
    {
     "name": "stdout",
     "output_type": "stream",
     "text": [
      "Parameters of the best model: \n",
      "{'batch_size': 16, 'epochs': 150}\n"
     ]
    }
   ],
   "source": [
    "\n",
    "from sklearn.model_selection import GridSearchCV\n",
    "from sklearn.metrics import make_scorer\n",
    "from keras.wrappers.scikit_learn import KerasRegressor\n",
    "\n",
    "scoring = {\n",
    "    'MAAPE':make_scorer(BIGA.mean_arctan_absolute_percentage_error, greater_is_better=False),\n",
    "    'MSE':'neg_mean_squared_error'}\n",
    "\n",
    "def grid_model(n=13, optimizer='adam', learning_rate = 0.001):\n",
    "    inputs = Input(shape=(n,))\n",
    "    h_1 = Dense(100, kernel_initializer='he_normal', activation='linear',bias_initializer='zeros')(inputs)\n",
    "    #h[1] = BatchNormalization()(h[0])\n",
    "    outputs = Dense(1, kernel_initializer='he_normal',bias_initializer='zeros')(h_1)\n",
    "    \n",
    "    model = Model(inputs=inputs, outputs=outputs)\n",
    "    \n",
    "    adam = optimizers.Adam(lr=learning_rate, beta_1=0.9, beta_2=0.999, amsgrad=False)\n",
    "    model.compile(loss='mean_squared_error', optimizer=adam)\n",
    "    #print(model.summary())\n",
    "    return model\n",
    "\n",
    "\n",
    "model = keras.wrappers.scikit_learn.KerasRegressor(build_fn=grid_model,\n",
    "                        epochs=10, \n",
    "                        batch_size=5,\n",
    "                        verbose=0)\n",
    "\n",
    "\n",
    "param_grid = {'epochs':[50,100,150],\n",
    "              'batch_size':[16,32,64]}\n",
    "\n",
    "grid = GridSearchCV(model,\n",
    "                    param_grid=param_grid,\n",
    "                    return_train_score=True,\n",
    "                    scoring=scoring,\n",
    "                    refit = 'MSE')\n",
    "\n",
    "grid_results = grid.fit(X, y)\n",
    "\n",
    "print('Parameters of the best model: ')\n",
    "print(grid_results.best_params_)"
   ]
  },
  {
   "cell_type": "code",
   "execution_count": null,
   "metadata": {},
   "outputs": [],
   "source": [
    "print(f'Best Accuracy for {grid_results.best_score_:.4} using {grid_results.best_params_}')\n",
    "means = grid_results.cv_results_['mean_score_time']\n",
    "stds = grid_results.cv_results_['std_score_time']\n",
    "params = grid_results.cv_results_['params']\n",
    "for mean, stdev, param in zip(means, stds, params):\n",
    "    print(f'mean={mean:.4}, std={stdev:.4} using {param}')"
   ]
  },
  {
   "cell_type": "markdown",
   "metadata": {},
   "source": [
    "# Method comparison\n",
    "\n",
    "We compare plot each result in final notebook including 4 results from a non-selection model and 3 feature selection model.\n",
    "\n",
    "- BIGA\n",
    "- RFE\n",
    "- RLF\n"
   ]
  },
  {
   "cell_type": "markdown",
   "metadata": {},
   "source": [
    "### Non-selection model baseline"
   ]
  },
  {
   "cell_type": "code",
   "execution_count": 10,
   "metadata": {},
   "outputs": [
    {
     "name": "stdout",
     "output_type": "stream",
     "text": [
      "Avg MAAPE: 79.76766% (+/- 1.687%)\n",
      "Avg RMSE: 25.59027% (+/- 0.592%)\n"
     ]
    }
   ],
   "source": [
    "model, ss_maape, ss_rmse = BIGA.train_Shuffle(\n",
    "                                        X, y, \n",
    "                                        batch_size=grid_results.best_params_['batch_size'], \n",
    "                                        epochs = grid_results.best_params_['epochs'],\n",
    "                                        n_split = 5\n",
    "                                        )\n",
    "\n",
    "print(\"Avg MAAPE: %.5f%% (+/- %.3f%%)\" % (np.mean(ss_maape), np.std(ss_maape)))\n",
    "print(\"Avg RMSE: %.5f%% (+/- %.3f%%)\" % (np.mean(ss_rmse), np.std(ss_rmse)))\n"
   ]
  },
  {
   "cell_type": "markdown",
   "metadata": {},
   "source": [
    "### Boosted Improved Garson's Algorithm (BIGA)"
   ]
  },
  {
   "cell_type": "code",
   "execution_count": 11,
   "metadata": {
    "scrolled": true
   },
   "outputs": [
    {
     "name": "stdout",
     "output_type": "stream",
     "text": [
      "Feature Selection x Boosting >>> Iteration: 1\n",
      "Feature Selection Process: 1\n",
      "Selected Feature:  Index(['RM'], dtype='object')\n",
      "Avg MAAPE: 78.41423% (+/- 2.65546%)\n",
      "Avg RMSE: 25.17336% (+/- 1.42359%)\n",
      "Feature Selection x Boosting >>> Iteration: 2\n",
      "Feature Selection Process: 2\n",
      "Selected Feature:  Index(['RM', 'PTRATIO'], dtype='object')\n",
      "Avg MAAPE: 78.96530% (+/- 2.98160%)\n",
      "Avg RMSE: 25.45328% (+/- 0.79615%)\n",
      "Feature Selection x Boosting >>> Iteration: 3\n",
      "Feature Selection Process: 3\n",
      "Selected Feature:  Index(['INDUS', 'RM', 'PTRATIO'], dtype='object')\n",
      "Avg MAAPE: 77.36275% (+/- 3.19568%)\n",
      "Avg RMSE: 24.70534% (+/- 1.33553%)\n",
      "Feature Selection x Boosting >>> Iteration: 4\n",
      "Feature Selection Process: 4\n",
      "Selected Feature:  Index(['INDUS', 'RM', 'RAD', 'PTRATIO'], dtype='object')\n",
      "Avg MAAPE: 79.60433% (+/- 2.43751%)\n",
      "Avg RMSE: 25.56559% (+/- 0.85958%)\n",
      "Feature Selection x Boosting >>> Iteration: 5\n",
      "Feature Selection Process: 5\n",
      "Selected Feature:  Index(['INDUS', 'RM', 'RAD', 'PTRATIO', 'B'], dtype='object')\n",
      "Avg MAAPE: 79.26301% (+/- 2.21853%)\n",
      "Avg RMSE: 25.52929% (+/- 0.74619%)\n",
      "Feature Selection x Boosting >>> Iteration: 6\n",
      "Feature Selection Process: 6\n",
      "Selected Feature:  Index(['INDUS', 'RM', 'DIS', 'RAD', 'PTRATIO', 'B'], dtype='object')\n",
      "Avg MAAPE: 76.67176% (+/- 3.32797%)\n",
      "Avg RMSE: 24.66522% (+/- 1.23605%)\n",
      "Feature Selection x Boosting >>> Iteration: 7\n",
      "Feature Selection Process: 7\n",
      "Selected Feature:  Index(['INDUS', 'RM', 'AGE', 'DIS', 'RAD', 'PTRATIO', 'B'], dtype='object')\n",
      "Avg MAAPE: 77.98845% (+/- 1.37947%)\n",
      "Avg RMSE: 25.03341% (+/- 0.78037%)\n",
      "Feature Selection x Boosting >>> Iteration: 8\n",
      "Feature Selection Process: 8\n",
      "Selected Feature:  Index(['INDUS', 'RM', 'AGE', 'DIS', 'RAD', 'PTRATIO', 'B', 'LSTAT'], dtype='object')\n",
      "Avg MAAPE: 79.07819% (+/- 2.17034%)\n",
      "Avg RMSE: 25.41197% (+/- 1.05943%)\n",
      "Feature Selection x Boosting >>> Iteration: 9\n",
      "Feature Selection Process: 9\n",
      "Selected Feature:  Index(['CRIM', 'INDUS', 'RM', 'AGE', 'DIS', 'RAD', 'PTRATIO', 'B', 'LSTAT'], dtype='object')\n",
      "Avg MAAPE: 78.37641% (+/- 2.71230%)\n",
      "Avg RMSE: 25.21058% (+/- 0.93110%)\n",
      "Feature Selection x Boosting >>> Iteration: 10\n",
      "Feature Selection Process: 10\n",
      "Selected Feature:  Index(['CRIM', 'INDUS', 'NOX', 'RM', 'AGE', 'DIS', 'RAD', 'PTRATIO', 'B',\n",
      "       'LSTAT'],\n",
      "      dtype='object')\n",
      "Avg MAAPE: 78.34084% (+/- 1.56233%)\n",
      "Avg RMSE: 25.15573% (+/- 0.79612%)\n",
      "Feature Selection x Boosting >>> Iteration: 11\n",
      "Feature Selection Process: 11\n",
      "Selected Feature:  Index(['CRIM', 'INDUS', 'CHAS', 'NOX', 'RM', 'AGE', 'DIS', 'RAD', 'PTRATIO',\n",
      "       'B', 'LSTAT'],\n",
      "      dtype='object')\n",
      "Avg MAAPE: 76.68558% (+/- 2.79592%)\n",
      "Avg RMSE: 24.65909% (+/- 1.11203%)\n",
      "Feature Selection x Boosting >>> Iteration: 12\n",
      "Feature Selection Process: 12\n",
      "Selected Feature:  Index(['CRIM', 'INDUS', 'CHAS', 'NOX', 'RM', 'AGE', 'DIS', 'RAD', 'TAX',\n",
      "       'PTRATIO', 'B', 'LSTAT'],\n",
      "      dtype='object')\n",
      "Avg MAAPE: 77.31275% (+/- 2.56792%)\n",
      "Avg RMSE: 24.75346% (+/- 1.08278%)\n",
      "Feature Selection x Boosting >>> Iteration: 13\n",
      "Feature Selection Process: 13\n",
      "Selected Feature:  Index(['CRIM', 'ZN', 'INDUS', 'CHAS', 'NOX', 'RM', 'AGE', 'DIS', 'RAD', 'TAX',\n",
      "       'PTRATIO', 'B', 'LSTAT'],\n",
      "      dtype='object')\n"
     ]
    },
    {
     "name": "stderr",
     "output_type": "stream",
     "text": [
      "/Users/zosmex/project/BoostedIGA.py:61: RuntimeWarning: invalid value encountered in double_scalars\n",
      "  s += (cw[i][j] * x[p][i]) / cw_h[p][j]\n"
     ]
    },
    {
     "name": "stdout",
     "output_type": "stream",
     "text": [
      "Avg MAAPE: 77.34544% (+/- 1.65413%)\n",
      "Avg RMSE: 24.78171% (+/- 0.49164%)\n"
     ]
    }
   ],
   "source": [
    "#Method processing\n",
    "\n",
    "MAAPE_BIGA, RMSE_BIGA, Best_BIGA = BIGA.BoostedIGA(X,y, \n",
    "                                                      n_batch_size = grid_results.best_params_['batch_size'],\n",
    "                                                      n_epochs = grid_results.best_params_['epochs'])\n",
    "\n"
   ]
  },
  {
   "cell_type": "code",
   "execution_count": null,
   "metadata": {},
   "outputs": [],
   "source": [
    "plt.scatter(range(1,X.shape[1]+1), MAAPE_BIGA)\n"
   ]
  },
  {
   "cell_type": "markdown",
   "metadata": {},
   "source": [
    "### Recursive Feature Elimination"
   ]
  },
  {
   "cell_type": "code",
   "execution_count": 6,
   "metadata": {},
   "outputs": [
    {
     "name": "stdout",
     "output_type": "stream",
     "text": [
      "Ite : 1\n"
     ]
    },
    {
     "name": "stderr",
     "output_type": "stream",
     "text": [
      "/Users/zosmex/anaconda3/lib/python3.6/site-packages/sklearn/utils/validation.py:724: DataConversionWarning: A column-vector y was passed when a 1d array was expected. Please change the shape of y to (n_samples, ), for example using ravel().\n",
      "  y = column_or_1d(y, warn=True)\n"
     ]
    },
    {
     "name": "stdout",
     "output_type": "stream",
     "text": [
      "Index(['RM'], dtype='object')\n",
      "Avg MAAPE: 78.48% (+/- 3.65%)\n",
      "Avg RMSE: 25.22% (+/- 1.52%)\n",
      "Ite : 2\n",
      "Index(['RM', 'LSTAT'], dtype='object')\n"
     ]
    },
    {
     "name": "stderr",
     "output_type": "stream",
     "text": [
      "/Users/zosmex/anaconda3/lib/python3.6/site-packages/sklearn/utils/validation.py:724: DataConversionWarning: A column-vector y was passed when a 1d array was expected. Please change the shape of y to (n_samples, ), for example using ravel().\n",
      "  y = column_or_1d(y, warn=True)\n"
     ]
    },
    {
     "name": "stdout",
     "output_type": "stream",
     "text": [
      "Avg MAAPE: 77.45% (+/- 2.54%)\n",
      "Avg RMSE: 24.73% (+/- 0.73%)\n",
      "Ite : 3\n",
      "Index(['RM', 'PTRATIO', 'LSTAT'], dtype='object')\n"
     ]
    },
    {
     "name": "stderr",
     "output_type": "stream",
     "text": [
      "/Users/zosmex/anaconda3/lib/python3.6/site-packages/sklearn/utils/validation.py:724: DataConversionWarning: A column-vector y was passed when a 1d array was expected. Please change the shape of y to (n_samples, ), for example using ravel().\n",
      "  y = column_or_1d(y, warn=True)\n"
     ]
    },
    {
     "name": "stdout",
     "output_type": "stream",
     "text": [
      "Avg MAAPE: 78.99% (+/- 2.02%)\n",
      "Avg RMSE: 25.55% (+/- 0.72%)\n",
      "Ite : 4\n",
      "Index(['RM', 'DIS', 'PTRATIO', 'LSTAT'], dtype='object')\n"
     ]
    },
    {
     "name": "stderr",
     "output_type": "stream",
     "text": [
      "/Users/zosmex/anaconda3/lib/python3.6/site-packages/sklearn/utils/validation.py:724: DataConversionWarning: A column-vector y was passed when a 1d array was expected. Please change the shape of y to (n_samples, ), for example using ravel().\n",
      "  y = column_or_1d(y, warn=True)\n"
     ]
    },
    {
     "name": "stdout",
     "output_type": "stream",
     "text": [
      "Avg MAAPE: 78.73% (+/- 2.13%)\n",
      "Avg RMSE: 25.37% (+/- 0.75%)\n",
      "Ite : 5\n",
      "Index(['NOX', 'RM', 'DIS', 'PTRATIO', 'LSTAT'], dtype='object')\n"
     ]
    },
    {
     "name": "stderr",
     "output_type": "stream",
     "text": [
      "/Users/zosmex/anaconda3/lib/python3.6/site-packages/sklearn/utils/validation.py:724: DataConversionWarning: A column-vector y was passed when a 1d array was expected. Please change the shape of y to (n_samples, ), for example using ravel().\n",
      "  y = column_or_1d(y, warn=True)\n"
     ]
    },
    {
     "name": "stdout",
     "output_type": "stream",
     "text": [
      "Avg MAAPE: 80.03% (+/- 1.29%)\n",
      "Avg RMSE: 25.69% (+/- 0.87%)\n",
      "Ite : 6\n",
      "Index(['CRIM', 'NOX', 'RM', 'DIS', 'PTRATIO', 'LSTAT'], dtype='object')\n"
     ]
    },
    {
     "name": "stderr",
     "output_type": "stream",
     "text": [
      "/Users/zosmex/anaconda3/lib/python3.6/site-packages/sklearn/utils/validation.py:724: DataConversionWarning: A column-vector y was passed when a 1d array was expected. Please change the shape of y to (n_samples, ), for example using ravel().\n",
      "  y = column_or_1d(y, warn=True)\n"
     ]
    },
    {
     "name": "stdout",
     "output_type": "stream",
     "text": [
      "Avg MAAPE: 79.03% (+/- 2.96%)\n",
      "Avg RMSE: 25.31% (+/- 1.31%)\n",
      "Ite : 7\n"
     ]
    },
    {
     "name": "stderr",
     "output_type": "stream",
     "text": [
      "/Users/zosmex/anaconda3/lib/python3.6/site-packages/sklearn/utils/validation.py:724: DataConversionWarning: A column-vector y was passed when a 1d array was expected. Please change the shape of y to (n_samples, ), for example using ravel().\n",
      "  y = column_or_1d(y, warn=True)\n"
     ]
    },
    {
     "name": "stdout",
     "output_type": "stream",
     "text": [
      "Index(['CRIM', 'NOX', 'RM', 'DIS', 'RAD', 'PTRATIO', 'LSTAT'], dtype='object')\n",
      "Avg MAAPE: 77.56% (+/- 2.57%)\n",
      "Avg RMSE: 25.04% (+/- 1.01%)\n",
      "Ite : 8\n",
      "Index(['CRIM', 'NOX', 'RM', 'DIS', 'RAD', 'TAX', 'PTRATIO', 'LSTAT'], dtype='object')\n"
     ]
    },
    {
     "name": "stderr",
     "output_type": "stream",
     "text": [
      "/Users/zosmex/anaconda3/lib/python3.6/site-packages/sklearn/utils/validation.py:724: DataConversionWarning: A column-vector y was passed when a 1d array was expected. Please change the shape of y to (n_samples, ), for example using ravel().\n",
      "  y = column_or_1d(y, warn=True)\n"
     ]
    },
    {
     "name": "stdout",
     "output_type": "stream",
     "text": [
      "Avg MAAPE: 78.33% (+/- 1.61%)\n",
      "Avg RMSE: 25.00% (+/- 0.80%)\n",
      "Ite : 9\n",
      "Index(['CRIM', 'ZN', 'NOX', 'RM', 'DIS', 'RAD', 'TAX', 'PTRATIO', 'LSTAT'], dtype='object')\n"
     ]
    },
    {
     "name": "stderr",
     "output_type": "stream",
     "text": [
      "/Users/zosmex/anaconda3/lib/python3.6/site-packages/sklearn/utils/validation.py:724: DataConversionWarning: A column-vector y was passed when a 1d array was expected. Please change the shape of y to (n_samples, ), for example using ravel().\n",
      "  y = column_or_1d(y, warn=True)\n"
     ]
    },
    {
     "name": "stdout",
     "output_type": "stream",
     "text": [
      "Avg MAAPE: 77.72% (+/- 2.25%)\n",
      "Avg RMSE: 24.80% (+/- 1.01%)\n",
      "Ite : 10\n",
      "Index(['CRIM', 'ZN', 'NOX', 'RM', 'DIS', 'RAD', 'TAX', 'PTRATIO', 'B',\n",
      "       'LSTAT'],\n",
      "      dtype='object')\n"
     ]
    },
    {
     "name": "stderr",
     "output_type": "stream",
     "text": [
      "/Users/zosmex/anaconda3/lib/python3.6/site-packages/sklearn/utils/validation.py:724: DataConversionWarning: A column-vector y was passed when a 1d array was expected. Please change the shape of y to (n_samples, ), for example using ravel().\n",
      "  y = column_or_1d(y, warn=True)\n"
     ]
    },
    {
     "name": "stdout",
     "output_type": "stream",
     "text": [
      "Avg MAAPE: 77.44% (+/- 1.70%)\n",
      "Avg RMSE: 24.89% (+/- 0.68%)\n",
      "Ite : 11\n",
      "Index(['CRIM', 'ZN', 'CHAS', 'NOX', 'RM', 'DIS', 'RAD', 'TAX', 'PTRATIO', 'B',\n",
      "       'LSTAT'],\n",
      "      dtype='object')\n"
     ]
    },
    {
     "name": "stderr",
     "output_type": "stream",
     "text": [
      "/Users/zosmex/anaconda3/lib/python3.6/site-packages/sklearn/utils/validation.py:724: DataConversionWarning: A column-vector y was passed when a 1d array was expected. Please change the shape of y to (n_samples, ), for example using ravel().\n",
      "  y = column_or_1d(y, warn=True)\n"
     ]
    },
    {
     "name": "stdout",
     "output_type": "stream",
     "text": [
      "Avg MAAPE: 77.79% (+/- 2.10%)\n",
      "Avg RMSE: 25.00% (+/- 0.74%)\n",
      "Ite : 12\n",
      "Index(['CRIM', 'ZN', 'INDUS', 'CHAS', 'NOX', 'RM', 'DIS', 'RAD', 'TAX',\n",
      "       'PTRATIO', 'B', 'LSTAT'],\n",
      "      dtype='object')\n"
     ]
    },
    {
     "name": "stderr",
     "output_type": "stream",
     "text": [
      "/Users/zosmex/anaconda3/lib/python3.6/site-packages/sklearn/utils/validation.py:724: DataConversionWarning: A column-vector y was passed when a 1d array was expected. Please change the shape of y to (n_samples, ), for example using ravel().\n",
      "  y = column_or_1d(y, warn=True)\n"
     ]
    },
    {
     "name": "stdout",
     "output_type": "stream",
     "text": [
      "Avg MAAPE: 79.70% (+/- 2.34%)\n",
      "Avg RMSE: 25.60% (+/- 1.01%)\n",
      "Ite : 13\n",
      "Index(['CRIM', 'ZN', 'INDUS', 'CHAS', 'NOX', 'RM', 'AGE', 'DIS', 'RAD', 'TAX',\n",
      "       'PTRATIO', 'B', 'LSTAT'],\n",
      "      dtype='object')\n"
     ]
    },
    {
     "name": "stderr",
     "output_type": "stream",
     "text": [
      "/Users/zosmex/anaconda3/lib/python3.6/site-packages/sklearn/utils/validation.py:724: DataConversionWarning: A column-vector y was passed when a 1d array was expected. Please change the shape of y to (n_samples, ), for example using ravel().\n",
      "  y = column_or_1d(y, warn=True)\n"
     ]
    },
    {
     "name": "stdout",
     "output_type": "stream",
     "text": [
      "Avg MAAPE: 79.13% (+/- 1.35%)\n",
      "Avg RMSE: 25.43% (+/- 0.60%)\n"
     ]
    }
   ],
   "source": [
    "MAAPE_RFE, RMSE_RFE, Best_RFE = bs.RFE_model(X,y,\n",
    "                                            n_batch_size = grid_results.best_params_['batch_size'],\n",
    "                                            n_epochs = grid_results.best_params_['epochs']\n",
    "                                            )\n"
   ]
  },
  {
   "cell_type": "markdown",
   "metadata": {},
   "source": [
    "### Regression RelieF"
   ]
  },
  {
   "cell_type": "code",
   "execution_count": 13,
   "metadata": {},
   "outputs": [
    {
     "name": "stdout",
     "output_type": "stream",
     "text": [
      "Iteration:  1\n",
      "Avg MAAPE: 78.48% (+/- 0.23%)\n",
      "Avg RMSE: 25.13% (+/- 0.52%)\n",
      "Iteration:  2\n",
      "Avg MAAPE: 79.24% (+/- 2.10%)\n",
      "Avg RMSE: 25.45% (+/- 1.02%)\n",
      "Iteration:  3\n",
      "Avg MAAPE: 76.61% (+/- 1.59%)\n",
      "Avg RMSE: 24.62% (+/- 0.66%)\n",
      "Iteration:  4\n",
      "Avg MAAPE: 77.63% (+/- 2.24%)\n",
      "Avg RMSE: 24.98% (+/- 1.09%)\n",
      "Iteration:  5\n",
      "Avg MAAPE: 80.59% (+/- 1.19%)\n",
      "Avg RMSE: 25.79% (+/- 0.25%)\n",
      "Iteration:  6\n",
      "Avg MAAPE: 76.73% (+/- 1.81%)\n",
      "Avg RMSE: 24.70% (+/- 0.86%)\n",
      "Iteration:  7\n",
      "Avg MAAPE: 78.53% (+/- 3.27%)\n",
      "Avg RMSE: 25.25% (+/- 1.40%)\n",
      "Iteration:  8\n",
      "Avg MAAPE: 79.21% (+/- 1.30%)\n",
      "Avg RMSE: 25.44% (+/- 0.54%)\n",
      "Iteration:  9\n",
      "Avg MAAPE: 79.61% (+/- 1.26%)\n",
      "Avg RMSE: 25.46% (+/- 0.38%)\n",
      "Iteration:  10\n",
      "Avg MAAPE: 77.18% (+/- 2.50%)\n",
      "Avg RMSE: 24.87% (+/- 1.08%)\n",
      "Iteration:  11\n",
      "Avg MAAPE: 77.85% (+/- 2.70%)\n",
      "Avg RMSE: 25.05% (+/- 0.69%)\n",
      "Iteration:  12\n",
      "Avg MAAPE: 80.71% (+/- 4.70%)\n",
      "Avg RMSE: 26.07% (+/- 1.61%)\n",
      "Iteration:  13\n",
      "Avg MAAPE: 79.67% (+/- 1.97%)\n",
      "Avg RMSE: 25.45% (+/- 0.88%)\n"
     ]
    }
   ],
   "source": [
    "MAAPE_RLF, RMSE_RLF, Best_RLF = bs.RLF_model(X,y,\n",
    "                                            n_batch_size = grid_results.best_params_['batch_size'],\n",
    "                                            n_epochs = grid_results.best_params_['epochs']\n",
    "                                            )"
   ]
  },
  {
   "cell_type": "code",
   "execution_count": 14,
   "metadata": {},
   "outputs": [
    {
     "data": {
      "image/png": "[encoded data removed]",
      "text/plain": [
       "<Figure size 432x288 with 3 Axes>"
      ]
     },
     "metadata": {},
     "output_type": "display_data"
    }
   ],
   "source": [
    "x_plt = range(1,X.shape[1]+1)\n",
    "y1 = MAAPE_BIGA\n",
    "y2 = MAAPE_RFE\n",
    "y3 = MAAPE_RLF\n",
    "\n",
    "plt.style.use('seaborn-whitegrid')\n",
    "\n",
    "fig, ax = plt.subplots(3)\n",
    "ax[0].scatter(x_plt, y1, linewidth=2, c='green')\n",
    "ax[1].scatter(x_plt, y2, linewidth=2, marker = '^')\n",
    "ax[2].scatter(x_plt, y3, linewidth=2, c='red', marker = '+')\n",
    "\n",
    "for i, txt in enumerate(y1):\n",
    "    ax[0].annotate(s='%.3f'%y1[i], xy=(x_plt[i], y1[i]), xytext =(x_plt[i], y1[i]+0.5))\n",
    "    ax[1].annotate(s='%.3f'%y2[i], xy=(x_plt[i], y2[i]), xytext =(x_plt[i], y2[i]+0.5))\n",
    "    ax[2].annotate(s='%.3f'%y3[i], xy=(x_plt[i], y3[i]), xytext =(x_plt[i], y3[i]+0.5))"
   ]
  },
  {
   "cell_type": "code",
   "execution_count": null,
   "metadata": {},
   "outputs": [],
   "source": []
  }
 ],
 "metadata": {
  "kernelspec": {
   "display_name": "Python 3",
   "language": "python",
   "name": "python3"
  },
  "language_info": {
   "codemirror_mode": {
    "name": "ipython",
    "version": 3
   },
   "file_extension": ".py",
   "mimetype": "text/x-python",
   "name": "python",
   "nbconvert_exporter": "python",
   "pygments_lexer": "ipython3",
   "version": "3.6.5"
  }
 },
 "nbformat": 4,
 "nbformat_minor": 2
}
